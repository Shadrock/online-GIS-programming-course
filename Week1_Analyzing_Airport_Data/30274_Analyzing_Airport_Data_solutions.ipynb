{
  "nbformat": 4,
  "nbformat_minor": 0,
  "metadata": {
    "colab": {
      "name": "30274_Analyzing_Airport_Data_solutions.ipynb",
      "provenance": [],
      "collapsed_sections": [],
      "authorship_tag": "ABX9TyPiQXPlSw3FQpFUEITslzbV",
      "include_colab_link": true
    },
    "kernelspec": {
      "name": "python3",
      "display_name": "Python 3"
    }
  },
  "cells": [
    {
      "cell_type": "markdown",
      "metadata": {
        "id": "view-in-github",
        "colab_type": "text"
      },
      "source": [
        "<a href=\"https://colab.research.google.com/github/Shadrock/online-GIS-programming-course/blob/master/Week_1/30274_Analyzing_Airport_Data_solutions.ipynb\" target=\"_parent\"><img src=\"https://colab.research.google.com/assets/colab-badge.svg\" alt=\"Open In Colab\"/></a>"
      ]
    },
    {
      "cell_type": "markdown",
      "metadata": {
        "id": "zhcsTai1wvdO",
        "colab_type": "text"
      },
      "source": [
        "\n",
        "This lab was originally found at: http://opentechschool.github.io/python-data-intro/core/csv.html and uses data from https://openflights.org/data.html. This notebook contains the primary code used in the tutorial, and potential answers for the coding challenges, presented in the associated [Github repository for my programming in GIS course](https://github.com/Shadrock/online-GIS-programming-course/tree/master/Week_1). "
      ]
    },
    {
      "cell_type": "markdown",
      "metadata": {
        "id": "JgTRIjNCuCD5",
        "colab_type": "text"
      },
      "source": [
        "# **Analyzing Airport Data**\n",
        "Before we get to the data, let's briefly touch on Reading and writing comma-separated data, or data from `.csv` files. Comma-separated values (CSV) is a way of expressing structured data in flat text files:\n",
        "\n",
        "```\n",
        "\"Refugee_Camp_Name\",\"Country\",\"Population2006\",\"Population2014\"\n",
        "\"Kakuma\",\"Kenya\",\"90457\",\"153959\"\n",
        "\"Hagadera\",\"Kenya\",\"59185\",\"106968\"\n",
        "\"Adjumani\",\"Uganda\",\"54051\",\"96926\"\n",
        "\"Dagahaley\",\"Kenya\",\"39526\",\"88486\"\n",
        "\"Zaatari\",\"Jordan\",\"0\",\"84773\"\n",
        "```\n"
      ]
    },
    {
      "cell_type": "markdown",
      "metadata": {
        "id": "sR0evf4lbGga",
        "colab_type": "text"
      },
      "source": [
        "It’s also a commonly used format to get data in and out of programs like spreadsheet software, where the data are tabular. [Python comes with a CSV module](https://docs.python.org/3/library/csv.html) that provides one way to easily work with CSV-delimited data: Try importing the `Campsstats.csv` file, which contains the rows shown above, and then run the following code in Colab:"
      ]
    },
    {
      "cell_type": "code",
      "metadata": {
        "id": "QFn9NeNbbhQm",
        "colab_type": "code",
        "colab": {}
      },
      "source": [
        "# Upload local script to Colab here. \n",
        "from google.colab import files\n",
        "uploaded = files.upload()"
      ],
      "execution_count": null,
      "outputs": []
    },
    {
      "cell_type": "code",
      "metadata": {
        "id": "Bi5bGez2t-FX",
        "colab_type": "code",
        "colab": {}
      },
      "source": [
        "import csv\n",
        "f=open(\"Camp_stats.csv\")\n",
        "for row in csv.reader(f):\n",
        "    print(row)"
      ],
      "execution_count": null,
      "outputs": []
    },
    {
      "cell_type": "markdown",
      "metadata": {
        "id": "bJVMz5Ithazs",
        "colab_type": "text"
      },
      "source": [
        "Each row is read as a list of strings representing the fields in the row."
      ]
    },
    {
      "cell_type": "markdown",
      "metadata": {
        "id": "3LXAI3E5h5ty",
        "colab_type": "text"
      },
      "source": [
        "## Why not use `.split()` or `.strip()`?\n",
        "\n",
        "We already a learned another way to do this, we’ve learned `split(\",\")` to split each row of text into comma-delimited fields, and then `strip()` to take off the quote marks. (We did this with the survey in IDCE 302, if you recall!)\n",
        "\n",
        "There are a few good reasons to use the CSV module here:\n",
        "*   The csv module makes it clear what you’re doing to anyone reading your code.\n",
        "*   The csv module is less likely to contain an error that splits some lines the wrong way.\n",
        "*   The csv module has a lot of other features ([documented here](https://docs.python.org/3/library/csv.html)) that allow it to process differently formatted files, so you can easily update your program if the file format changes.\n",
        "\n"
      ]
    },
    {
      "cell_type": "markdown",
      "metadata": {
        "id": "N3nZ9FVFioXU",
        "colab_type": "text"
      },
      "source": [
        "# **Reading Airport Data**\n",
        "We’re going to do some processing of real-world data now, using freely available airline data sets from the [OpenFlights project](https://openflights.org/).\n",
        "\n",
        "Visit the [OpenFlights data page](https://openflights.org/data.html) and download their airports data file - “airports.dat”. This is a file in CSV format, open it in a text editor if you want to have a look at it."
      ]
    },
    {
      "cell_type": "markdown",
      "metadata": {
        "id": "BZ6nkpORjA9d",
        "colab_type": "text"
      },
      "source": [
        "## Exercise 1\n",
        "\n",
        "Can you use this file to print all of the airport names for a particular country (say, Australia or Russia)? To get you started, on the OpenFlights web page it shows that “Name” is the second field in each row of data. This means in the list of fields it will have index 1 (index 0 is the first field.)\n",
        "\n",
        "As a starting point, here’s some code that prints the name of *every* airport:\n",
        "```\n",
        "import csv\n",
        "f = open(\"airports.dat\")\n",
        "for row in csv.reader(f):\n",
        "    print(row[1])\n",
        "```"
      ]
    },
    {
      "cell_type": "markdown",
      "metadata": {
        "id": "dwiK-j7GFq0q",
        "colab_type": "text"
      },
      "source": [
        "Be sure to start by uploading the airports.dat file. \n",
        "```\n",
        "from google.colab import files\n",
        "uploaded = files.upload()\n",
        "````"
      ]
    },
    {
      "cell_type": "markdown",
      "metadata": {
        "id": "LRDrkfWEjaZy",
        "colab_type": "text"
      },
      "source": [
        "### Answer"
      ]
    },
    {
      "cell_type": "code",
      "metadata": {
        "id": "ikoVjYkW5gPT",
        "colab_type": "code",
        "colab": {}
      },
      "source": [
        "# Upload local script to Colab here. \n",
        "from google.colab import files\n",
        "uploaded = files.upload()"
      ],
      "execution_count": null,
      "outputs": []
    },
    {
      "cell_type": "code",
      "metadata": {
        "id": "Oz_y5CBojb0W",
        "colab_type": "code",
        "colab": {}
      },
      "source": [
        "import csv\n",
        "f = open(\"airports.dat\")\n",
        "for row in csv.reader(f):\n",
        "  if row[3] == \"Australia\" or row[3] == \"Russia\":\n",
        "    print(row[1])"
      ],
      "execution_count": null,
      "outputs": []
    },
    {
      "cell_type": "markdown",
      "metadata": {
        "id": "1j2x2yZkkOQF",
        "colab_type": "text"
      },
      "source": [
        "# **Creating an Airline Route Histogram**\n",
        "\n",
        "We’re going to combine everything we’ve learned into a more complex problem to solve.\n",
        "\n",
        "OpenFlights distribute databases for both airline locations and airline route details. You can download the routes database “routes.dat” from the OpenFlights data page. This database stores every unique flight route that OpenFlights knows about. Take a moment to look at the fields available in the routes data (listed on the OpenFlights page.)\n",
        "\n",
        "By using both data sources, we can calculate how far each route travels and then plot a histogram showing the distribution of distances flown.\n",
        "\n",
        "This a multiple stage problem:\n",
        "*   Read the airports file (airports.dat) and build a dictionary mapping the unique airport ID to the geographical coordinates (latitude & longitude.) This allows you to look up the location of each airport by its ID.\n",
        "*   Read the routes file (routes.dat) and get the IDs of the source and destination airports. Look up the latitude and longitude based on the ID. Using those coordinates, calculate the length of the route and append it to a list of all route lengths.\n",
        "*   Plot a histogram based on the route lengths, to show the distribution of different flight distances.\n",
        "\n"
      ]
    },
    {
      "cell_type": "markdown",
      "metadata": {
        "id": "mlQklWmelC2I",
        "colab_type": "text"
      },
      "source": [
        "## Exercise 2 - Reading the airport database\n",
        "Write code to read through “airports.dat” and create a dictionary mapping from an airport ID key (use the numeric ID in the first field) to the geographic coordinates. You may want to create two dictionaries, one holding latitudes and one holding longitudes.\n",
        "\n",
        "Look back at the OpenFlights data page to see the fields available in the airports.dat file. Hint: I ended up having to look at a copy of their data in their Github repo. "
      ]
    },
    {
      "cell_type": "markdown",
      "metadata": {
        "id": "sKPU1yDMl-gt",
        "colab_type": "text"
      },
      "source": [
        "### Answer 2\n"
      ]
    },
    {
      "cell_type": "code",
      "metadata": {
        "id": "RhzINi3Rk3_W",
        "colab_type": "code",
        "colab": {}
      },
      "source": [
        "latitudes = {}\n",
        "longitudes = {}\n",
        "f = open(\"airports.dat\")\n",
        "for row in csv.reader(f):\n",
        "  airport_id = row[0]\n",
        "  latitudes[airport_id] = float(row[6])\n",
        "  longitudes[airport_id] = float(row[7])\n",
        "\n",
        "# Running this won't display anything. If you're using a local editor or want to see the dictinoary use:\n",
        "# print(latitudes)\n",
        "# print(longitudes)\n",
        "# If working in Colab or a similar Jupyter Notebook simply put the variable name in a cell and run it. "
      ],
      "execution_count": null,
      "outputs": []
    },
    {
      "cell_type": "code",
      "metadata": {
        "id": "0CkKxfMhmoki",
        "colab_type": "code",
        "colab": {}
      },
      "source": [
        "# Example of running a variable name in a cell \n",
        "latitudes"
      ],
      "execution_count": null,
      "outputs": []
    },
    {
      "cell_type": "markdown",
      "metadata": {
        "id": "gVBRpHAPnDl4",
        "colab_type": "text"
      },
      "source": [
        "A few things to note in the code above: I used `float(row[6])`. which converted the string value to a floating point (ie fractional) number. We've learned this before, but let's review what's happening:\n",
        "\n",
        "*   The CSV module returns the latitude as a string like “-6.081689”\n",
        "*   You can convert this to an *integer* number (ie whole number) with `int(row[6])` but this would just be -6\n",
        "Floating point numbers can store fractions, so we convert it to a floating point number with `float(row[6])` and get the full number -6.081689\n",
        "\n"
      ]
    },
    {
      "cell_type": "markdown",
      "metadata": {
        "id": "HDYnRoL9np3l",
        "colab_type": "text"
      },
      "source": [
        "## Exercise 3 - Route distances\n",
        "Now that we have the lat/lon of each airport we can calculate the distance of each airline route.\n",
        "\n",
        "Calculating geographic distances is a bit tricky because the earth is a sphere (actually, it's an oblate spheroid). The distance we measure is the “great circle distance”. We’re not going to implement our own great circle distance function in Python here, instead you can download a Python file with a `geo_distance()` function from here. Feel free to have a peek at it if you like, but don’t worry about completely understanding it at this stage. There are two ways you can use this function:\n",
        "1. Place the file in the Notebook working directory and then import it as a Python module to use it (you can test it with the code below)\n"
      ]
    },
    {
      "cell_type": "code",
      "metadata": {
        "id": "XSMR6yuKnrrA",
        "colab_type": "code",
        "colab": {}
      },
      "source": [
        "# Code to import and check the geo_distance.py file to make sure it works.\n",
        "geo_distance.distance(-37.814,144.963,52.519,13.406) # Melbourne to Berlin in km!"
      ],
      "execution_count": null,
      "outputs": []
    },
    {
      "cell_type": "markdown",
      "metadata": {
        "id": "UNXd2L4pq2zt",
        "colab_type": "text"
      },
      "source": [
        "If you’re not using a Notebook, this code snippet doesn’t display anything. You’ll need to store the result of the distance function to a variable, then add a line with a print() statement to display the contents of the variable."
      ]
    },
    {
      "cell_type": "markdown",
      "metadata": {
        "id": "nBQGgQoLrCpq",
        "colab_type": "text"
      },
      "source": [
        "2. As an alternative to the import statement, you can also copy and paste the contents of the geo_distance.py file into an Notebook cell. Run the cell to define the distance function, and then use it in subsequent cells!"
      ]
    },
    {
      "cell_type": "code",
      "metadata": {
        "id": "ozPLqJ39rJ0w",
        "colab_type": "code",
        "colab": {}
      },
      "source": [
        "# Copy of geo_distance.py\n",
        "# Using the Haversine formula for geographic Great Circle Distance\n",
        "# As per https://en.wikipedia.org/wiki/Haversine_formula\n",
        "\n",
        "from math import cos,radians,sin,pow,asin,sqrt\n",
        "\n",
        "def distance(lat1, long1, lat2, long2):\n",
        "  radius = 6371 # radius of the earth in km, roughly https://en.wikipedia.org/wiki/Earth_radius\n",
        "  # Lat,long are in degrees but we need radians\n",
        "  lat1 = radians(lat1)\n",
        "  lat2 = radians(lat2)\n",
        "  long1 = radians(long1)\n",
        "  long2 = radians(long2)\n",
        "\n",
        "  dlat = lat2-lat1\n",
        "  dlon = long2-long1\n",
        "\n",
        "  a = pow(sin(dlat/2),2) + cos(lat1)*cos(lat2)*pow(sin(dlon/2),2)\n",
        "  distance = 2 * radius * asin(sqrt(a))\n",
        "\n",
        "  return distance\n"
      ],
      "execution_count": null,
      "outputs": []
    },
    {
      "cell_type": "markdown",
      "metadata": {
        "id": "AsubvhiVrqxn",
        "colab_type": "text"
      },
      "source": [
        "Once you have the `distance()` function working, can you write a program that reads all the airline routes from “routes.dat”, looks up the latitude and longitude of the source and destination airports, and builds a list of route distances?\n",
        "\n",
        "When looking at the list of fields in the OpenFlights data documentation, remember that we used the “Unique OpenFlights identifier” fields for each airport when we made the dictionaries of latitudes and longitudes, not the multi-letter airport codes.\n",
        "\n",
        "TIP: You might come across an error like “KeyError: \\N” when you first run your program. This is another problem of ‘dirty data’, the “routes.dat” file contains some airports that aren’t listed in “airports.dat”. You can skip these routes by adding a test of the type `if airport in latitudes`."
      ]
    },
    {
      "cell_type": "markdown",
      "metadata": {
        "id": "ffy9iu5ltq7V",
        "colab_type": "text"
      },
      "source": [
        "### Answer 3"
      ]
    },
    {
      "cell_type": "code",
      "metadata": {
        "id": "1jHh0Y3hC5bY",
        "colab_type": "code",
        "colab": {}
      },
      "source": [
        "# If you've previously uploaded the \"airports.dat\" file to this notebook you'll also need to add the \"routes.dat\" file to Colab here. \n",
        "from google.colab import files\n",
        "uploaded = files.upload()"
      ],
      "execution_count": null,
      "outputs": []
    },
    {
      "cell_type": "code",
      "metadata": {
        "id": "bRy92t0Yrlh7",
        "colab_type": "code",
        "colab": {}
      },
      "source": [
        "distances = []\n",
        "f = open(\"routes.dat\")\n",
        "for row in csv.reader(f):\n",
        "  source_airport = row[3]\n",
        "  dest_airport = row[5]\n",
        "  if source_airport in latitudes and dest_airport in latitudes:\n",
        "    source_lat = latitudes[source_airport]\n",
        "    source_long = longitudes[source_airport]\n",
        "    dest_lat = latitudes[dest_airport]\n",
        "    dest_long = longitudes[dest_airport]\n",
        "    distances.append(distance(source_lat,source_long,dest_lat,dest_long))"
      ],
      "execution_count": null,
      "outputs": []
    },
    {
      "cell_type": "markdown",
      "metadata": {
        "id": "4NSMQBE-tdJh",
        "colab_type": "text"
      },
      "source": [
        "Once again, you can test the results of your program by typing the name of the output list (`distances` in this case) into a Notebook cell and running it or by adding `print()` statements to the end of the program to display the variable values."
      ]
    },
    {
      "cell_type": "code",
      "metadata": {
        "id": "xfMC1k6Ts2_L",
        "colab_type": "code",
        "colab": {}
      },
      "source": [
        "distances"
      ],
      "execution_count": null,
      "outputs": []
    },
    {
      "cell_type": "markdown",
      "metadata": {
        "id": "Y5HIL66rBhui",
        "colab_type": "text"
      },
      "source": [
        "## Exercise 4 - Histogram\n",
        "Now we’re ready to create a histogram displaying the frequency of flights by distance."
      ]
    },
    {
      "cell_type": "markdown",
      "metadata": {
        "id": "LODN662jDRi8",
        "colab_type": "text"
      },
      "source": [
        "Be sure to check out `plt.hist()`, which can do most of the work here. The first argument you supply will be the dataset (list of distances.)\n",
        "\n",
        "The second argument (try starting with 100) is the number of bins to divide the histogram up into. You can increase this number to see more distinct bars and a more detailed picture, or reduce it to see a coarser picture. Try setting it to some other values and see what happens to the histogram plot.\n",
        "\n",
        "The third argument, `facecolor`, sets the colour of the graph, “r” for red. There are a lot of ways to specify colours in matplotlib, all of which are [explained in the documentation](https://matplotlib.org/api/colors_api.html). All of the arguments that can be used with `hist()` can be found in the [matplotlib documentation](https://matplotlib.org/api/pyplot_api.html#matplotlib.pyplot.hist).\n",
        "\n"
      ]
    },
    {
      "cell_type": "markdown",
      "metadata": {
        "id": "nS-r3C_0E5zV",
        "colab_type": "text"
      },
      "source": [
        "### Answer 4"
      ]
    },
    {
      "cell_type": "code",
      "metadata": {
        "id": "jTFb5iaVB0rG",
        "colab_type": "code",
        "colab": {}
      },
      "source": [
        "import numpy as np\n",
        "import matplotlib.pyplot as plt\n",
        "\n",
        "plt.hist(distances, 100, facecolor='r')\n",
        "plt.xlabel(\"Distance (km)\")\n",
        "plt.ylabel(\"Number of flights\")\n"
      ],
      "execution_count": null,
      "outputs": []
    },
    {
      "cell_type": "markdown",
      "metadata": {
        "id": "XmWVSP-EEo-P",
        "colab_type": "text"
      },
      "source": [
        "### Congrats, you're done!\n",
        "You’ve taken some real world data and graphed it in an informative way! Granted, the results aren’t earth shattering but you’re well on your way to understanding the techniques to perform other data analysis, and chart other data."
      ]
    }
  ]
}